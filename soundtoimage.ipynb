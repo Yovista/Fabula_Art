{
 "cells": [
  {
   "cell_type": "code",
   "execution_count": 1,
   "metadata": {},
   "outputs": [],
   "source": [
    "import numpy as np\n",
    "import librosa, librosa.display\n",
    "import matplotlib.pyplot as plt\n",
    "import os\n",
    "\n",
    "from mobilechelonian import Turtle"
   ]
  },
  {
   "cell_type": "code",
   "execution_count": 2,
   "metadata": {},
   "outputs": [],
   "source": [
    "name ='histlist'\n",
    "file = name+\".wav\"\n",
    "title =name+\".ps\"\n",
    "png = name + '.png'"
   ]
  },
  {
   "cell_type": "code",
   "execution_count": 3,
   "metadata": {},
   "outputs": [],
   "source": [
    "signal, sample_rate = librosa.load(file)"
   ]
  },
  {
   "cell_type": "code",
   "execution_count": 4,
   "metadata": {},
   "outputs": [],
   "source": [
    "FRAME_SIZE = 2028\n",
    "HOP_LENGTH = 250000\n"
   ]
  },
  {
   "cell_type": "code",
   "execution_count": 5,
   "metadata": {},
   "outputs": [
    {
     "name": "stderr",
     "output_type": "stream",
     "text": [
      "/var/folders/my/2knl0d_s69qc9q9brv1fgqkm0000gn/T/ipykernel_42686/3132937464.py:1: FutureWarning: Pass y=[-1.2497135e-06  5.4961133e-06  5.9350419e-05 ...  0.0000000e+00\n",
      "  0.0000000e+00  0.0000000e+00] as keyword args. From version 0.10 passing these as positional arguments will result in an error\n",
      "  rms = librosa.feature.rms(signal, frame_length=FRAME_SIZE, hop_length=HOP_LENGTH)[0]\n"
     ]
    }
   ],
   "source": [
    "rms = librosa.feature.rms(signal, frame_length=FRAME_SIZE, hop_length=HOP_LENGTH)[0]\n"
   ]
  },
  {
   "cell_type": "code",
   "execution_count": 6,
   "metadata": {},
   "outputs": [
    {
     "data": {
      "text/plain": [
       "8"
      ]
     },
     "execution_count": 6,
     "metadata": {},
     "output_type": "execute_result"
    }
   ],
   "source": [
    "len(rms)"
   ]
  },
  {
   "cell_type": "code",
   "execution_count": 7,
   "metadata": {},
   "outputs": [],
   "source": [
    "frames = range(len(rms))\n",
    "t = librosa.frames_to_time(frames, hop_length=HOP_LENGTH)"
   ]
  },
  {
   "cell_type": "code",
   "execution_count": 8,
   "metadata": {},
   "outputs": [
    {
     "data": {
      "text/plain": [
       "8"
      ]
     },
     "execution_count": 8,
     "metadata": {},
     "output_type": "execute_result"
    }
   ],
   "source": [
    "len(rms)"
   ]
  },
  {
   "cell_type": "code",
   "execution_count": 9,
   "metadata": {},
   "outputs": [],
   "source": [
    "spec = []\n",
    "for i in rms:\n",
    "    spec.append(i*200)"
   ]
  },
  {
   "cell_type": "code",
   "execution_count": 10,
   "metadata": {},
   "outputs": [
    {
     "data": {
      "text/plain": [
       "8"
      ]
     },
     "execution_count": 10,
     "metadata": {},
     "output_type": "execute_result"
    }
   ],
   "source": [
    "len(spec)"
   ]
  },
  {
   "cell_type": "code",
   "execution_count": 11,
   "metadata": {},
   "outputs": [],
   "source": [
    "import turtle\n",
    "import time\n",
    "from turtle import Screen, Turtle\n",
    "from random import randint\n",
    "import random\n",
    "from PIL import Image\n",
    "import tkinter as tk\n",
    "import itertools\n",
    "import io"
   ]
  },
  {
   "cell_type": "code",
   "execution_count": 17,
   "metadata": {},
   "outputs": [
    {
     "ename": "Terminator",
     "evalue": "",
     "output_type": "error",
     "traceback": [
      "\u001b[0;31m---------------------------------------------------------------------------\u001b[0m",
      "\u001b[0;31mTerminator\u001b[0m                                Traceback (most recent call last)",
      "\u001b[0;32m/var/folders/my/2knl0d_s69qc9q9brv1fgqkm0000gn/T/ipykernel_42686/3260106982.py\u001b[0m in \u001b[0;36m<module>\u001b[0;34m\u001b[0m\n\u001b[1;32m     74\u001b[0m \u001b[0mturtle\u001b[0m\u001b[0;34m.\u001b[0m\u001b[0mhideturtle\u001b[0m\u001b[0;34m(\u001b[0m\u001b[0;34m)\u001b[0m\u001b[0;34m\u001b[0m\u001b[0;34m\u001b[0m\u001b[0m\n\u001b[1;32m     75\u001b[0m \u001b[0mturtle\u001b[0m\u001b[0;34m.\u001b[0m\u001b[0mdone\u001b[0m\u001b[0;34m(\u001b[0m\u001b[0;34m)\u001b[0m\u001b[0;34m\u001b[0m\u001b[0;34m\u001b[0m\u001b[0m\n\u001b[0;32m---> 76\u001b[0;31m \u001b[0mturtle\u001b[0m\u001b[0;34m.\u001b[0m\u001b[0mbye\u001b[0m\u001b[0;34m(\u001b[0m\u001b[0;34m)\u001b[0m\u001b[0;34m\u001b[0m\u001b[0;34m\u001b[0m\u001b[0m\n\u001b[0m\u001b[1;32m     77\u001b[0m \u001b[0;34m\u001b[0m\u001b[0m\n\u001b[1;32m     78\u001b[0m \u001b[0mcv\u001b[0m \u001b[0;34m=\u001b[0m \u001b[0mturtle\u001b[0m\u001b[0;34m.\u001b[0m\u001b[0mgetcanvas\u001b[0m\u001b[0;34m(\u001b[0m\u001b[0;34m)\u001b[0m\u001b[0;34m\u001b[0m\u001b[0;34m\u001b[0m\u001b[0m\n",
      "\u001b[0;32m~/opt/anaconda3/lib/python3.9/turtle.py\u001b[0m in \u001b[0;36mbye\u001b[0;34m()\u001b[0m\n",
      "\u001b[0;31mTerminator\u001b[0m: "
     ]
    }
   ],
   "source": [
    "window = turtle.Screen()\n",
    "window.title(str(name))\n",
    "window.setup(width = 650, height = 650)\n",
    "\n",
    "\n",
    "turtle.speed(0)\n",
    "turtle.width(2)\n",
    "turtle.bgcolor('white')\n",
    "time.sleep(5)\n",
    "warna = ['#f9a931','#2568b6','#fb4a16','#026768','#c4a4cd','#3c3f45'\n",
    "         ]\n",
    "w= random.choice(warna)\n",
    "turtle.penup()\n",
    "turtle.pencolor('black')\n",
    "turtle.width(3)\n",
    "turtle.goto(-180,-180)\n",
    "turtle.pendown()\n",
    "\n",
    "\n",
    "turtle.goto(-180,180)\n",
    "turtle.goto(180,180)\n",
    "turtle.goto(180,-180)\n",
    "turtle.goto(-180,-180)\n",
    "turtle.penup()\n",
    "\n",
    "\n",
    "\n",
    "sudut = [0,90,180,360]\n",
    "for s in spec:\n",
    "    w= random.choice(warna)\n",
    "    turtle.pencolor(w)\n",
    "    turtle.goto(randint(-120,120),randint(-120,120))\n",
    "    turtle.width(5)\n",
    "    turtle.setheading(random.choice(sudut))\n",
    "    turtle.pendown()\n",
    "    turtle.circle(s*2,180)\n",
    "    turtle.penup()\n",
    "    \n",
    "       \n",
    "    turtle.pencolor(w)\n",
    "    turtle.goto(randint(-100,100),randint(-100,100))\n",
    "    turtle.width(0)\n",
    "    turtle.fillcolor(w)\n",
    "    turtle.begin_fill()\n",
    "    turtle.pendown()\n",
    "    turtle.circle(s*2.5)\n",
    "    turtle.end_fill()\n",
    "    turtle.penup()\n",
    "    \n",
    "    turtle.width(2)\n",
    "    for i in range(0,4):\n",
    "        turtle.goto(randint(-120,120),randint(-120,120))\n",
    "        turtle.pendown()\n",
    "        turtle.fillcolor(w)\n",
    "        turtle.begin_fill()\n",
    "        turtle.forward(i*20)\n",
    "        turtle.right(90)\n",
    "        turtle.end_fill()\n",
    "        turtle.penup()\n",
    "\n",
    "\n",
    "turtle.penup()\n",
    "turtle.goto(5,-200)\n",
    "turtle.pendown()\n",
    "turtle.pencolor('black')\n",
    "turtle.pendown()\n",
    "turtle.write('monalisa',move=False,align=\"center\", font=(\"Arial\", 20))\n",
    "\n",
    "        \n",
    "\n",
    "\n",
    "       \n",
    "\n",
    "turtle.hideturtle()\n",
    "\n",
    "        \n",
    "cv = turtle.getcanvas()\n",
    "cv.postscript(file=title, width=650, height=650,colormode='color')\n",
    "img = Image.open(title) \n",
    "img.save(png) \n",
    "\n",
    "turtle.done()\n",
    "turtle.bye()\n",
    "print('is done')"
   ]
  },
  {
   "cell_type": "code",
   "execution_count": null,
   "metadata": {},
   "outputs": [],
   "source": [
    "!pip install ghostscript"
   ]
  },
  {
   "cell_type": "code",
   "execution_count": null,
   "metadata": {},
   "outputs": [],
   "source": [
    "`pip install ghostscript`\n",
    "\n",
    "\n"
   ]
  },
  {
   "cell_type": "code",
   "execution_count": null,
   "metadata": {},
   "outputs": [],
   "source": [
    "def polygon(sides):\n",
    "\n",
    "    \n",
    "    for i in spec[0:50]:\n",
    "\n",
    "\n",
    "            \n",
    "            turtle.forward(i)\n",
    "          \n",
    "            turtle.left(180/sides)\n",
    "        polygon(sides)\n",
    "            \n",
    "        \n",
    "        \n",
    "\n",
    "    turtle.done()\n",
    "\n"
   ]
  },
  {
   "cell_type": "code",
   "execution_count": null,
   "metadata": {},
   "outputs": [],
   "source": [
    "polygon(5)"
   ]
  },
  {
   "cell_type": "code",
   "execution_count": null,
   "metadata": {},
   "outputs": [],
   "source": []
  }
 ],
 "metadata": {
  "kernelspec": {
   "display_name": "Python 3 (ipykernel)",
   "language": "python",
   "name": "python3"
  },
  "language_info": {
   "codemirror_mode": {
    "name": "ipython",
    "version": 3
   },
   "file_extension": ".py",
   "mimetype": "text/x-python",
   "name": "python",
   "nbconvert_exporter": "python",
   "pygments_lexer": "ipython3",
   "version": "3.9.7"
  }
 },
 "nbformat": 4,
 "nbformat_minor": 4
}
